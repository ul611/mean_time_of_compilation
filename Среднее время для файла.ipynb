{
 "cells": [
  {
   "cell_type": "code",
   "execution_count": 1,
   "metadata": {},
   "outputs": [],
   "source": [
    "# импортируем необходимые библиотеки\n",
    "\n",
    "import numpy as np\n",
    "import pandas as pd\n",
    "import os"
   ]
  },
  {
   "cell_type": "code",
   "execution_count": 2,
   "metadata": {},
   "outputs": [
    {
     "name": "stdout",
     "output_type": "stream",
     "text": [
      "Абсолютный путь до папки, в которой лежат файлы: C:\\Users\\Uliana.Bykova\\Documents\\jupyter notebook\\тест\\New folder\n"
     ]
    }
   ],
   "source": [
    "# указываем путь до папки, в которой лежат файлы\n",
    "\n",
    "dir_ = input(\"Абсолютный путь до папки, в которой лежат файлы: \")"
   ]
  },
  {
   "cell_type": "code",
   "execution_count": 5,
   "metadata": {},
   "outputs": [],
   "source": [
    "# собираем все названия файлов с расширением .csv в лист и сразу преобразуем каждый файл в таблицу\n",
    "\n",
    "list_of_dfs = [pd.read_csv(file, usecols=[0, 1]) for file in os.listdir(path=dir_) if file.endswith(\"csv\")]"
   ]
  },
  {
   "cell_type": "code",
   "execution_count": 6,
   "metadata": {},
   "outputs": [],
   "source": [
    "# объединяем файлы в один друг под другом, группируем по полю file \n",
    "# и находим для каждого файла среднее время компиляции\n",
    "\n",
    "# результат сразу сохраняем в файл \"res.csv\" в той же директории\n",
    "\n",
    "pd.concat(list_of_dfs, ignore_index=True).groupby(\"file\").agg(\n",
    "                Mean_time_for_compilation = pd.NamedAgg(column = 'time', aggfunc = 'mean')).to_csv(\"res.csv\")"
   ]
  }
 ],
 "metadata": {
  "kernelspec": {
   "display_name": "Python 3",
   "language": "python",
   "name": "python3"
  },
  "language_info": {
   "codemirror_mode": {
    "name": "ipython",
    "version": 3
   },
   "file_extension": ".py",
   "mimetype": "text/x-python",
   "name": "python",
   "nbconvert_exporter": "python",
   "pygments_lexer": "ipython3",
   "version": "3.7.4"
  }
 },
 "nbformat": 4,
 "nbformat_minor": 2
}
